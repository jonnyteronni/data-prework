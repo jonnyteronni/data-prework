{
 "cells": [
  {
   "cell_type": "markdown",
   "metadata": {},
   "source": [
    "<img src=\"https://bit.ly/2VnXWr2\" width=\"100\" align=\"left\">"
   ]
  },
  {
   "cell_type": "markdown",
   "metadata": {},
   "source": [
    "# Temperature Sensor\n",
    "\n",
    "There is a temperature sensor in the processor of your company's server. The company wants to analyze the data provided by the sensor to decide if they should change the cooling system for a better one. As changing the cooling system is expensive and you are an excellent data analyst, you can't make a decision without basis.\n",
    "\n",
    "## Tools\n",
    "You don't necessarily need to use all the tools. Maybe you opt to use some of them or completely different ones, they are given to help you shape the exercise. Programming exercises can be solved in many different ways.\n",
    "1. Data structures: **lists**\n",
    "2. Loops: **list comprehension**\n",
    "3. Functions: **min, max, print, len**\n",
    "4. Conditional statements: **if-elif-else**\n",
    "\n",
    "## Tasks\n",
    "The temperatures measured throughout the 24 hours of a day are:"
   ]
  },
  {
   "cell_type": "code",
   "execution_count": 17,
   "metadata": {},
   "outputs": [],
   "source": [
    "from numpy import mean\n",
    "from statistics import stdev\n",
    "\n",
    "temperatures_C = [33, 66, 65, 0, 59, 60, 62, 64, 70, 76, 80, 81, 80, 83, 90, 79, 61, 53, 50, 49, 53, 48, 45, 39]"
   ]
  },
  {
   "cell_type": "markdown",
   "metadata": {},
   "source": [
    "The first element of the list is the temperature at 12am, the second element is the temperature at 1am, and so on. \n",
    "\n",
    "The company has decided that if one of the following events occurs, then the cooling system needs to be replaced for a new one to avoid damaging the processor.\n",
    "* More than 4 temperatures are greater than or equal to 70ºC.\n",
    "* Any temperature is above 80ºC.\n",
    "* The average temperature exceeds 65ºC.\n",
    "\n",
    "Follow the steps so that you can make the decision.\n",
    "\n",
    "#### 1. Find the minimum temperature of the day and store it in a variable."
   ]
  },
  {
   "cell_type": "code",
   "execution_count": 18,
   "metadata": {},
   "outputs": [
    {
     "name": "stdout",
     "output_type": "stream",
     "text": [
      "Min temperature was 0ºC.\n"
     ]
    }
   ],
   "source": [
    "min_temp = min(temperatures_C)\n",
    "print('Min temperature was {}ºC.'.format(min_temp))"
   ]
  },
  {
   "cell_type": "markdown",
   "metadata": {},
   "source": [
    "#### 2. Find the maximum temperature of the day and store it in a variable."
   ]
  },
  {
   "cell_type": "code",
   "execution_count": 19,
   "metadata": {},
   "outputs": [
    {
     "name": "stdout",
     "output_type": "stream",
     "text": [
      "Max temperature was 90ºC.\n"
     ]
    }
   ],
   "source": [
    "max_temp = max(temperatures_C)\n",
    "print('Max temperature was {}ºC.'.format(max_temp))"
   ]
  },
  {
   "cell_type": "markdown",
   "metadata": {},
   "source": [
    "#### 3. Create a list with the temperatures that are greater than or equal to 70ºC. Store it in a variable."
   ]
  },
  {
   "cell_type": "code",
   "execution_count": 20,
   "metadata": {},
   "outputs": [],
   "source": [
    "temp_higher_70 = []\n",
    "for temp in temperatures_C:\n",
    "    if temp >= 70:\n",
    "        temp_higher_70.append(temp)"
   ]
  },
  {
   "cell_type": "markdown",
   "metadata": {},
   "source": [
    "#### 4. Find the average temperature of the day and store it in a variable."
   ]
  },
  {
   "cell_type": "code",
   "execution_count": 21,
   "metadata": {},
   "outputs": [
    {
     "name": "stdout",
     "output_type": "stream",
     "text": [
      "Average temperature was 60.25ºC.\n"
     ]
    }
   ],
   "source": [
    "avg_temp = mean(temperatures_C)\n",
    "print('Average temperature was {}ºC.'.format(avg_temp))"
   ]
  },
  {
   "cell_type": "markdown",
   "metadata": {},
   "source": [
    "#### 5. Imagine that there was a sensor failure at 3am and the data for that specific hour was not recorded. How would you estimate the missing value? Replace the current value of the list at 3am for an estimation. "
   ]
  },
  {
   "cell_type": "code",
   "execution_count": 23,
   "metadata": {},
   "outputs": [],
   "source": [
    "# I will replace the missing value with the temperature average of the full day\n",
    "temperatures_C[3] = int(avg_temp)"
   ]
  },
  {
   "cell_type": "markdown",
   "metadata": {},
   "source": [
    "#### 6. Bonus: the maintenance staff is from the United States and does not understand the international metric system. Help them by converting the temperatures from Celsius to Fahrenheit.\n",
    "To know more about temperature conversion check this [link](https://en.wikipedia.org/wiki/Conversion_of_units_of_temperature).\n",
    "\n",
    "**Formula**: \n",
    "\n",
    "$F = 1.8 * C + 32$"
   ]
  },
  {
   "cell_type": "code",
   "execution_count": 24,
   "metadata": {},
   "outputs": [
    {
     "name": "stdout",
     "output_type": "stream",
     "text": [
      "[91.4, 150.8, 149.0, 140.0, 138.2, 140.0, 143.60000000000002, 147.2, 158.0, 168.8, 176.0, 177.8, 176.0, 181.4, 194.0, 174.20000000000002, 141.8, 127.4, 122.0, 120.2, 127.4, 118.4, 113.0, 102.2]\n"
     ]
    }
   ],
   "source": [
    "temperatures_F =[]\n",
    "for temp in temperatures_C:\n",
    "    temperatures_F.append(1.8*temp+32)\n",
    "    \n",
    "print(temperatures_F)"
   ]
  },
  {
   "cell_type": "markdown",
   "metadata": {},
   "source": [
    "#### 7. Make a decision!\n",
    "Now it's time to make a decision taking into account what you have seen until now. \n",
    "\n",
    "Remember that if one of the following events occurs, then the cooling system needs to be replaced for a new one to avoid damaging the processor.\n",
    "* More than 4 temperatures are greater than or equal to 70ºC.\n",
    "* Any temperature is above 80ºC.\n",
    "* The average temperature exceeds 65ºC.\n",
    "\n",
    "#### To make your decision, check if any of the three conditions above is met. You might need to use some of the variables you created in steps 1 to 6. Print a message to show if the cooling system needs to be changed or not."
   ]
  },
  {
   "cell_type": "code",
   "execution_count": 25,
   "metadata": {},
   "outputs": [
    {
     "name": "stdout",
     "output_type": "stream",
     "text": [
      "Cooling system needs to be replaced for a new one to avoid damaging the processor!\n"
     ]
    }
   ],
   "source": [
    "#Update average temperature after the replacement of the 3am missing value\n",
    "avg_temp = mean(temperatures_C)\n",
    "\n",
    "if len(temp_higher_70) > 4:\n",
    "    print('Cooling system needs to be replaced for a new one to avoid damaging the processor!')\n",
    "elif max_temp > 80:\n",
    "    print('Cooling system needs to be replaced for a new one to avoid damaging the processor!')\n",
    "elif avg_temp > 65:\n",
    "    print('Cooling system needs to be replaced for a new one to avoid damaging the processor!')\n",
    "else:\n",
    "    print('Cooling system shows expected performance.')"
   ]
  },
  {
   "cell_type": "markdown",
   "metadata": {},
   "source": [
    "## Bonus\n",
    "\n",
    "The company has decided that the decision you made is not valid. They want you to analyze the data again but this time, the conditions that need to be met in order to change the cooling system are different.\n",
    "\n",
    "This time, if one of the following events occurs, then the cooling system needs to be replaced:\n",
    "* The temperature is greater than 70ºC during more than 4 consecutive hours.\n",
    "* Any temperature is above 80ºC.\n",
    "* The average temperature exceeds 65ºC.\n",
    "\n",
    "Follow the steps so that you can make the decision.\n",
    "\n",
    "#### 1. Create a list with the hours where the temperature is greater than 70ºC. Store it in a variable."
   ]
  },
  {
   "cell_type": "code",
   "execution_count": 26,
   "metadata": {},
   "outputs": [],
   "source": [
    "hours_higher_70 = []\n",
    "\n",
    "for hour in range(len(temperatures_C)):\n",
    "    if temperatures_C[hour] > 70:\n",
    "        hours_higher_70.append(hour)\n"
   ]
  },
  {
   "cell_type": "markdown",
   "metadata": {},
   "source": [
    "#### 2. Check if the list you created in step 1 has more than 4 consecutive hours. "
   ]
  },
  {
   "cell_type": "code",
   "execution_count": 27,
   "metadata": {},
   "outputs": [
    {
     "name": "stdout",
     "output_type": "stream",
     "text": [
      "Temperature reached above 70ºc more than 4 consecutive hours\n"
     ]
    }
   ],
   "source": [
    "counter = 0\n",
    "for hour in hours_higher_70:\n",
    "    if counter > 4:\n",
    "        print('Temperature reached above 70ºc more than 4 consecutive hours')\n",
    "        break\n",
    "    elif hour == hours_higher_70[0]:\n",
    "        previous_hour = hour\n",
    "        continue\n",
    "    elif hour - previous_hour == 1:\n",
    "        counter +=1\n",
    "    previous_hour = hour"
   ]
  },
  {
   "cell_type": "markdown",
   "metadata": {},
   "source": [
    "#### 3. Make the decision!\n",
    "To make your decision, check if any of the three conditions is met. Print a message to show if the cooling system needs to be changed or not."
   ]
  },
  {
   "cell_type": "code",
   "execution_count": 28,
   "metadata": {},
   "outputs": [
    {
     "name": "stdout",
     "output_type": "stream",
     "text": [
      "Temperature reached above 70ºc more than 4 consecutive hours. Please change cooling system\n"
     ]
    }
   ],
   "source": [
    "if counter > 4:\n",
    "    print('Temperature reached above 70ºc more than 4 consecutive hours. Please change cooling system')\n",
    "elif max_temp > 80:\n",
    "    print('Temperature reached above 80ºc. Please change cooling system')\n",
    "elif avg_temp > 65:\n",
    "    print('Average temperature was above 65ºc. Please change cooling system')\n",
    "else:\n",
    "    print('Cooling system shows expected performance.')"
   ]
  },
  {
   "cell_type": "markdown",
   "metadata": {},
   "source": [
    "#### 4. Find the average value of the temperature lists (ºC and ºF). What is the relation between both average values?"
   ]
  },
  {
   "cell_type": "code",
   "execution_count": 33,
   "metadata": {},
   "outputs": [
    {
     "name": "stdout",
     "output_type": "stream",
     "text": [
      "The relation between averages is the same conversion formula that we used above.\n",
      "62.75\n",
      "144.95000000000002\n",
      "144.95\n"
     ]
    }
   ],
   "source": [
    "#Average temperature in ºC was already calculated above (62.8ºC) \n",
    "avg_temp_C = avg_temp\n",
    "\n",
    "avg_temp_F = mean(temperatures_F)\n",
    "\n",
    "if round(avg_temp_F,10) == round(1.8*avg_temp_C + 32,10):\n",
    "    print('The relation between averages is the same conversion formula that we used above.')\n",
    "else:\n",
    "    print('Can\\'t find the relation :(')"
   ]
  },
  {
   "cell_type": "markdown",
   "metadata": {},
   "source": [
    "#### 5. Find the standard deviation of the temperature lists (ºC and ºF). What is the relation between both standard deviations?"
   ]
  },
  {
   "cell_type": "code",
   "execution_count": 36,
   "metadata": {},
   "outputs": [
    {
     "name": "stdout",
     "output_type": "stream",
     "text": [
      "Can't find the relation :(\n"
     ]
    }
   ],
   "source": [
    "import statistics as st\n",
    "\n",
    "stdev_temp_C = stdev(temperatures_C)\n",
    "\n",
    "stdev_temp_F = stdev(temperatures_F)\n",
    "\n",
    "if round(stdev_temp_F,10) == round(1.8*stdev_temp_C + 32,10):\n",
    "    print('The relation between averages is the same conversion formula that we used above.')\n",
    "else:\n",
    "    print('Can\\'t find the relation :(')"
   ]
  },
  {
   "cell_type": "code",
   "execution_count": null,
   "metadata": {},
   "outputs": [],
   "source": []
  }
 ],
 "metadata": {
  "kernelspec": {
   "display_name": "Python 3",
   "language": "python",
   "name": "python3"
  },
  "language_info": {
   "codemirror_mode": {
    "name": "ipython",
    "version": 3
   },
   "file_extension": ".py",
   "mimetype": "text/x-python",
   "name": "python",
   "nbconvert_exporter": "python",
   "pygments_lexer": "ipython3",
   "version": "3.7.6"
  }
 },
 "nbformat": 4,
 "nbformat_minor": 2
}
