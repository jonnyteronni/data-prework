{
 "cells": [
  {
   "cell_type": "markdown",
   "metadata": {},
   "source": [
    "<img src=\"https://bit.ly/2VnXWr2\" width=\"100\" align=\"left\"/>"
   ]
  },
  {
   "cell_type": "markdown",
   "metadata": {},
   "source": [
    "# Robin Hood\n",
    "Robin Hood has entered a competition to win the archery contest in Sherwood. With his bow and arrows, he needs to shoot on a target and try to hit as close as possible to the center.\n",
    "\n",
    "![](images/arrows.jpg)\n",
    "\n",
    "## Context\n",
    "In this challenge, the landing position of arrows shot by archers in the competition will be represented using 2-dimensional coordinates. \n",
    "\n",
    "In the 2-dimensional space, a point can be defined by a pair of values that correspond to the horizontal coordinate (x) and the vertical coordinate (y). For example, in our case, an arrow that hits the center of the archery target will land in position (0, 0) on the coordinate axes. \n",
    "\n",
    "The space can be divided into 4 zones (quadrants): Q1, Q2, Q3, Q4. If a point is in Q1, both its x coordinate and y coordinate are positive. Any point with a null x or y coordinate is considered to not belong to any quadrant. \n",
    "\n",
    "If you want to know more about the cartesian coordinate system, you can check this [link](https://en.wikipedia.org/wiki/Cartesian_coordinate_system). \n",
    "\n",
    "## Tools\n",
    "You don't necessarily need to use all the tools. Maybe you opt to use some of them or completely different ones, they are given to help you shape the exercise. Programming exercises can be solved in many different ways.\n",
    "* Data structures: **lists, sets, tuples**\n",
    "* Conditional statements: **if-elif-else**\n",
    "* Loop: **while/for**\n",
    "* Minimum (optional sorting)\n",
    "\n",
    "## Tasks\n",
    "Robin Hood has hit the following points:"
   ]
  },
  {
   "cell_type": "code",
   "execution_count": 44,
   "metadata": {},
   "outputs": [],
   "source": [
    "import math\n",
    "\n",
    "# There is a point with a negative zero which I will assume it was a negative float very close to zero.\n",
    "points = [(4, 5), (-0, 2), (4, 7), (1, -3), (3, -2), (4, 5), (3, 2), (5, 7), (-5, 7), (2, 2), (-4, 5), (0, -2),\n",
    "          (-4, 7), (-1, 3), (-3, 2), (-4, -5), (-3, 2), (5, 7), (5, 7), (2, 2), (9, 9), (-8, -9)]\n"
   ]
  },
  {
   "cell_type": "markdown",
   "metadata": {},
   "source": [
    "#### 1. Robin Hood is famous for hitting an arrow with another arrow. Find the coordinates of the points where an arrow hits another arrow."
   ]
  },
  {
   "cell_type": "code",
   "execution_count": 9,
   "metadata": {},
   "outputs": [
    {
     "name": "stdout",
     "output_type": "stream",
     "text": [
      "{(4, 5), (5, 7), (-3, 2), (2, 2)}\n"
     ]
    }
   ],
   "source": [
    "same_spot = []\n",
    "for point_a in range(len(points)):\n",
    "    same_point = 0\n",
    "    for point_b in range(len(points)):\n",
    "        if points[point_a] == points[point_b]:\n",
    "            same_point += 1\n",
    "    if same_point > 1:\n",
    "        same_spot.append(points[point_a])\n",
    "same_spot = set(same_spot)\n",
    "print(same_spot)\n"
   ]
  },
  {
   "cell_type": "markdown",
   "metadata": {},
   "source": [
    "#### 2. Calculate how many arrows have fallen in each quadrant. \n",
    "**Note**: the arrows that fall in the axis (x=0 or y=0) don't belong to any quadrant."
   ]
  },
  {
   "cell_type": "code",
   "execution_count": 41,
   "metadata": {},
   "outputs": [
    {
     "name": "stdout",
     "output_type": "stream",
     "text": [
      "Quadrant 1 has 10 arrows\n",
      "Quadrant 2 has 6 arrows\n",
      "Quadrant 3 has 2 arrows\n",
      "Quadrant 4 has 2 arrows\n"
     ]
    }
   ],
   "source": [
    "quadrants = [0,0,0,0]\n",
    "\n",
    "for point in range(len(points)):\n",
    "    if (points[point][0] > 0 and points[point][1] > 0):\n",
    "        quadrants[0] += 1\n",
    "    elif points[point][0] < 0 and points[point][1] > 0:\n",
    "        quadrants[1] += 1\n",
    "    elif points[point][0] < 0 and points[point][1] < 0:\n",
    "        quadrants[2] += 1\n",
    "    elif points[point][0] > 0 and points[point][1] < 0:\n",
    "        quadrants[3] += 1\n",
    "\n",
    "\n",
    "\n",
    "for quad in range(4):\n",
    "    print('Quadrant {} has {} arrows'.format(quad+1,quadrants[quad]))\n",
    "    \n"
   ]
  },
  {
   "cell_type": "markdown",
   "metadata": {},
   "source": [
    "#### 3. Find the point closest to the center. Calculate its distance to the center. \n",
    "Take into account that there might be more than one point at the minimum distance to the center.\n",
    "\n",
    "**Hint**: Use the Euclidean distance. You can find more information about it [here](https://en.wikipedia.org/wiki/Euclidean_distance).  \n",
    "**Hint**: Defining a function that calculates the distance to the center can help."
   ]
  },
  {
   "cell_type": "code",
   "execution_count": 90,
   "metadata": {},
   "outputs": [
    {
     "name": "stdout",
     "output_type": "stream",
     "text": [
      "(0, 2) point is 2.0 far away from the center, which is the closest distance to the center.\n",
      "(0, -2) point is 2.0 far away from the center, which is the closest distance to the center.\n"
     ]
    }
   ],
   "source": [
    "def pytaghoras(x,y):\n",
    "    distance = math.sqrt((0-x)**2+(y-0)**2)\n",
    "    return(distance)\n",
    "\n",
    "dict_distance = {}\n",
    "for point in range(len(points)):\n",
    "    dict_distance[points[point]] = pytaghoras(points[point][0],points[point][1])\n",
    "\n",
    "for key,value in dict_distance.items():\n",
    "    if value == min(dict_distance.values()):\n",
    "        print('{} point is {} far away from the center, which is the closest distance to the center.'.format(key,value))"
   ]
  },
  {
   "cell_type": "markdown",
   "metadata": {},
   "source": [
    "#### 4. If the archery target has a radius of 9, calculate the number of arrows that won't hit the target. \n",
    "**Hint**: Use the function created in step 3. "
   ]
  },
  {
   "cell_type": "code",
   "execution_count": 91,
   "metadata": {},
   "outputs": [
    {
     "name": "stdout",
     "output_type": "stream",
     "text": [
      "(9, 9) point is outside the target.\n",
      "(-8, -9) point is outside the target.\n",
      "\n",
      "2 arrows did not hit the target.\n"
     ]
    }
   ],
   "source": [
    "arrows_missed = 0\n",
    "for key,value in dict_distance.items():\n",
    "    if value > 9:\n",
    "        arrows_missed +=1\n",
    "        print('{} point is outside the target.'.format(key))\n",
    "print('\\n{} arrows did not hit the target.'.format(arrows_missed))"
   ]
  },
  {
   "cell_type": "code",
   "execution_count": null,
   "metadata": {},
   "outputs": [],
   "source": []
  }
 ],
 "metadata": {
  "kernelspec": {
   "display_name": "Python 3",
   "language": "python",
   "name": "python3"
  },
  "language_info": {
   "codemirror_mode": {
    "name": "ipython",
    "version": 3
   },
   "file_extension": ".py",
   "mimetype": "text/x-python",
   "name": "python",
   "nbconvert_exporter": "python",
   "pygments_lexer": "ipython3",
   "version": "3.7.6"
  }
 },
 "nbformat": 4,
 "nbformat_minor": 2
}
