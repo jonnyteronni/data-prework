{
 "cells": [
  {
   "cell_type": "markdown",
   "metadata": {},
   "source": [
    "<img src=\"https://bit.ly/2VnXWr2\" width=\"100\" align=\"left\">"
   ]
  },
  {
   "cell_type": "markdown",
   "metadata": {},
   "source": [
    "# Rock, Paper & Scissors\n",
    "\n",
    "Let's play the famous game against our computer. You can check the rules [here](https://en.wikipedia.org/wiki/Rock%E2%80%93paper%E2%80%93scissors). \n",
    "\n",
    "## Task\n",
    "Create a program that imitates the playability of the well known game of rock, paper, scissors. Follow the guidelines provided.\n",
    "\n",
    "## Tools\n",
    "1. Loop: **for/while**\n",
    "2. Functions: **input(), print()...**\n",
    "3. Conditional statements: **if, elif, else**\n",
    "4. Definition of functions. Modular programming\n",
    "5. Import modules\n",
    "\n",
    "**To solve this challenge, the use of functions is recommended.**\n",
    "\n",
    "#### 1. Import the choice function of the random module."
   ]
  },
  {
   "cell_type": "code",
   "execution_count": 1,
   "metadata": {},
   "outputs": [],
   "source": [
    "from random import choice"
   ]
  },
  {
   "cell_type": "markdown",
   "metadata": {},
   "source": [
    "#### 2. Create a list that includes the 3 possible gesture options of the game: 'rock', 'paper' or 'scissors'. Store the list in a variable called `gestures`."
   ]
  },
  {
   "cell_type": "code",
   "execution_count": 2,
   "metadata": {},
   "outputs": [],
   "source": [
    "gestures = ['rock', 'paper','scissors']"
   ]
  },
  {
   "cell_type": "markdown",
   "metadata": {},
   "source": [
    "#### 3. Create a variable called `n_rounds` to store the maximum number of rounds to play in a game. \n",
    "Remember that the number of rounds must be odd: 1, 3, 5, ..."
   ]
  },
  {
   "cell_type": "code",
   "execution_count": 3,
   "metadata": {},
   "outputs": [],
   "source": [
    "n_rounds = 9"
   ]
  },
  {
   "cell_type": "markdown",
   "metadata": {},
   "source": [
    "#### 4. Create a variable called `rounds_to_win` to store the number of rounds that a player must win to win the game.\n",
    "**Hint**: the value stored in `rounds_to_win` depends on the value of `n_rounds`. "
   ]
  },
  {
   "cell_type": "code",
   "execution_count": 4,
   "metadata": {},
   "outputs": [],
   "source": [
    "rounds_to_win = int(n_rounds/2) + 1"
   ]
  },
  {
   "cell_type": "markdown",
   "metadata": {},
   "source": [
    "#### 5. Create two variables to store the number of rounds that the computer and the player have won. Call these variables `cpu_score` and `player_score`."
   ]
  },
  {
   "cell_type": "code",
   "execution_count": 5,
   "metadata": {},
   "outputs": [],
   "source": [
    "cpu_score = 0\n",
    "player_score = 0\n",
    "\n",
    "# Created two variables to store chosen gestures by player and computer\n",
    "player_gesture = ''\n",
    "computer_gesture = ''\n",
    "\n",
    "game_start_sentence = 'Choose between rock, paper or scissors:'"
   ]
  },
  {
   "cell_type": "markdown",
   "metadata": {},
   "source": [
    "#### 6. Define a function that randomly returns one of the 3 gesture options.\n",
    "You will use this function to simulate the gesture choice of the computer. "
   ]
  },
  {
   "cell_type": "code",
   "execution_count": 6,
   "metadata": {},
   "outputs": [],
   "source": [
    "def random_gesture():\n",
    "    return choice(gestures)"
   ]
  },
  {
   "cell_type": "markdown",
   "metadata": {},
   "source": [
    "#### 7. Define a function that asks the player which is the gesture he or she wants to show: 'rock', 'paper' or 'scissors'.\n",
    "The player should only be allowed to choose one of the 3 gesture options. If the player's choice is not rock, paper or scissors, keep asking until it is."
   ]
  },
  {
   "cell_type": "code",
   "execution_count": 7,
   "metadata": {},
   "outputs": [],
   "source": [
    "def choose_gesture():\n",
    "    while True:\n",
    "        gesture = input(game_start_sentence).lower()\n",
    "        if gesture not in gestures:\n",
    "            print('\\nThere is something wrong with what you wrote: {}.'.format(gesture))\n",
    "        else:\n",
    "            return gesture    "
   ]
  },
  {
   "cell_type": "markdown",
   "metadata": {},
   "source": [
    "#### 8. Define a function that checks who won a round. \n",
    "The function should return 0 if there is a tie, 1 if the computer wins and 2 if the player wins."
   ]
  },
  {
   "cell_type": "code",
   "execution_count": 8,
   "metadata": {},
   "outputs": [],
   "source": [
    "def game_round():\n",
    "    global player_gesture,computer_gesture\n",
    "    player_gesture = choose_gesture()\n",
    "    computer_gesture = random_gesture()\n",
    "    if player_gesture == computer_gesture:\n",
    "        return 0\n",
    "    elif \\\n",
    "        (player_gesture == 'rock' and computer_gesture == 'scissors') or\\\n",
    "        (player_gesture == 'paper' and computer_gesture == 'rock') or\\\n",
    "        (player_gesture == 'scissors' and computer_gesture == 'paper'):\n",
    "        return 2\n",
    "    elif \\\n",
    "        (player_gesture == 'scissors' and computer_gesture == 'rock') or\\\n",
    "        (player_gesture == 'paper' and computer_gesture == 'scissors') or\\\n",
    "        (player_gesture == 'rock' and computer_gesture == 'paper'):\n",
    "        return 1\n"
   ]
  },
  {
   "cell_type": "markdown",
   "metadata": {},
   "source": [
    "#### 9. Define a function that prints the choice of the computer, the choice of the player and a message that announces who won the current round. \n",
    "You should also use this function to update the variables that count the number of rounds that the computer and the player have won. The score of the winner increases by one point. If there is a tie, the score does not increase."
   ]
  },
  {
   "cell_type": "code",
   "execution_count": 9,
   "metadata": {},
   "outputs": [],
   "source": [
    "def round_winner(winner):\n",
    "    global cpu_score, player_score, player_gesture, computer_gesture\n",
    "    if winner == 0:\n",
    "        print('The round ended has a tie. Player used a {} and computer used a {}.'.format(player_gesture,computer_gesture))\n",
    "    elif winner == 1:\n",
    "        print('Computer has won this round. Player used a {} and computer used a {}.'.format(player_gesture,computer_gesture))\n",
    "        cpu_score += 1\n",
    "    elif winner == 2:\n",
    "        print('Player has won this round. Player used a {} and computer used a {}.'.format(player_gesture,computer_gesture))\n",
    "        player_score += 1\n",
    "        "
   ]
  },
  {
   "cell_type": "markdown",
   "metadata": {},
   "source": [
    "#### 10. Now it's time to code the execution of the game using the functions and variables you defined above. \n",
    "\n",
    "First, create a loop structure that repeats while no player reaches the minimum score necessary to win and the number of rounds is less than the maximum number of rounds to play in a game.  \n",
    "\n",
    "Inside the loop, use the functions and variables above to create the execution of a round: ask for the player's choice, generate the random choice of the computer, show the round results, update the scores, etc. "
   ]
  },
  {
   "cell_type": "code",
   "execution_count": 10,
   "metadata": {},
   "outputs": [
    {
     "name": "stdout",
     "output_type": "stream",
     "text": [
      "Choose between rock, paper or scissors:rock\n",
      "The round ended has a tie. Player used a rock and computer used a rock.\n",
      "Player has 0 wins and computer 0 wins so far. From 9 rounds, you have played 1.\n",
      "Choose between rock, paper or scissors:rock\n",
      "Player has won this round. Player used a rock and computer used a scissors.\n",
      "Player has 1 wins and computer 0 wins so far. From 9 rounds, you have played 2.\n",
      "Choose between rock, paper or scissors:rock\n",
      "Computer has won this round. Player used a rock and computer used a paper.\n",
      "Player has 1 wins and computer 1 wins so far. From 9 rounds, you have played 3.\n",
      "Choose between rock, paper or scissors:rock\n",
      "The round ended has a tie. Player used a rock and computer used a rock.\n",
      "Player has 1 wins and computer 1 wins so far. From 9 rounds, you have played 4.\n",
      "Choose between rock, paper or scissors:rock\n",
      "The round ended has a tie. Player used a rock and computer used a rock.\n",
      "Player has 1 wins and computer 1 wins so far. From 9 rounds, you have played 5.\n",
      "Choose between rock, paper or scissors:asdasd\n",
      "\n",
      "There is something wrong with what you wrote: asdasd.\n",
      "Choose between rock, paper or scissors:rasdasd\n",
      "\n",
      "There is something wrong with what you wrote: rasdasd.\n",
      "Choose between rock, paper or scissors:asdasda\n",
      "\n",
      "There is something wrong with what you wrote: asdasda.\n",
      "Choose between rock, paper or scissors:asdasdas\n",
      "\n",
      "There is something wrong with what you wrote: asdasdas.\n",
      "Choose between rock, paper or scissors:adsasdas\n",
      "\n",
      "There is something wrong with what you wrote: adsasdas.\n",
      "Choose between rock, paper or scissors:rock\n",
      "Computer has won this round. Player used a rock and computer used a paper.\n",
      "Player has 1 wins and computer 2 wins so far. From 9 rounds, you have played 6.\n",
      "Choose between rock, paper or scissors:rock\n",
      "The round ended has a tie. Player used a rock and computer used a rock.\n",
      "Player has 1 wins and computer 2 wins so far. From 9 rounds, you have played 7.\n",
      "Choose between rock, paper or scissors:rock\n",
      "Computer has won this round. Player used a rock and computer used a paper.\n",
      "Player has 1 wins and computer 3 wins so far. From 9 rounds, you have played 8.\n",
      "Choose between rock, paper or scissors:rock\n",
      "Player has won this round. Player used a rock and computer used a scissors.\n",
      "Player has 2 wins and computer 3 wins so far. From 9 rounds, you have played 9.\n"
     ]
    }
   ],
   "source": [
    "played_round = 0\n",
    "while (player_score < rounds_to_win) and (cpu_score < rounds_to_win) and (played_round < n_rounds):\n",
    "    played_round += 1\n",
    "    round_winner(game_round())\n",
    "    print('Player has {} wins and computer {} wins so far. From {} rounds, you have played {}.'.format(player_score,cpu_score,n_rounds,played_round))  "
   ]
  },
  {
   "cell_type": "raw",
   "metadata": {},
   "source": [
    "#### 11. Print the winner of the game based on who won more rounds.\n",
    "Remember that the game might be tied. "
   ]
  },
  {
   "cell_type": "code",
   "execution_count": 11,
   "metadata": {},
   "outputs": [
    {
     "name": "stdout",
     "output_type": "stream",
     "text": [
      "AI is too powerfull nowdays. Computer has won the game!\n"
     ]
    }
   ],
   "source": [
    "if player_score == cpu_score:\n",
    "    print('The game ended as a tie')\n",
    "elif player_score > cpu_score:\n",
    "    print('Congratulations! Player has won the game!')\n",
    "elif player_score < cpu_score:\n",
    "    print('AI is too powerfull nowdays. Computer has won the game!')\n",
    "else:\n",
    "    print('Something went wrong. Please contact the admin')"
   ]
  },
  {
   "cell_type": "markdown",
   "metadata": {},
   "source": [
    "# Bonus: Rock, Paper, Scissors, Lizard & Spock\n",
    "![](images/rpsls.jpg)\n",
    "\n",
    "In this challenge, you need to improve the previous game by adding two new options. To know more about the rules of the improved version of rock, paper, scissors, check this [link](http://www.samkass.com/theories/RPSSL.html). \n",
    "\n",
    "In addition, you will also need to improve how the game interacts with the player: the number of rounds to play, which must be an odd number, will be requested to the user until a valid number is entered. Define a new function to make that request.\n",
    "\n",
    "**Hint**: Try to reuse the code that you already coded in the previous challenge. If your code is efficient, this bonus will only consist of simple modifications to the original game."
   ]
  },
  {
   "cell_type": "code",
   "execution_count": 12,
   "metadata": {},
   "outputs": [],
   "source": [
    "# Add new gesture options to the game\n",
    "gestures.append('lizard')\n",
    "gestures.append('spock')"
   ]
  },
  {
   "cell_type": "code",
   "execution_count": 13,
   "metadata": {},
   "outputs": [],
   "source": [
    "# Update start sentence for the game\n",
    "game_start_sentence = 'Choose between rock, paper, scissors, lizard or spock:'\n",
    "\n",
    "# New game function with new rules\n",
    "def new_game_round():\n",
    "    global player_gesture,computer_gesture\n",
    "    player_gesture = choose_gesture()\n",
    "    computer_gesture = random_gesture()\n",
    "    if player_gesture == computer_gesture:\n",
    "        return 0\n",
    "    elif \\\n",
    "        (player_gesture == 'rock' and (computer_gesture == 'scissors' or computer_gesture == 'lizard')) or\\\n",
    "        (player_gesture == 'paper' and (computer_gesture == 'rock' or computer_gesture == 'spock')) or\\\n",
    "        (player_gesture == 'scissors' and (computer_gesture == 'paper'or computer_gesture == 'lizard')) or\\\n",
    "        (player_gesture == 'lizard' and (computer_gesture == 'paper'or computer_gesture == 'spock')) or\\\n",
    "        (player_gesture == 'spock' and (computer_gesture == 'scissors'or computer_gesture == 'rock')):\n",
    "        return 2\n",
    "    elif \\\n",
    "        (computer_gesture == 'rock' and (player_gesture == 'scissors' or player_gesture == 'lizard')) or\\\n",
    "        (computer_gesture == 'paper' and (player_gesture == 'rock' or player_gesture == 'spock')) or\\\n",
    "        (computer_gesture == 'scissors' and (player_gesture == 'paper'or player_gesture == 'lizard')) or\\\n",
    "        (computer_gesture == 'lizard' and (player_gesture == 'paper'or player_gesture == 'spock')) or\\\n",
    "        (computer_gesture == 'spock' and (player_gesture == 'scissors'or player_gesture == 'rock')):\n",
    "        return 1\n"
   ]
  },
  {
   "cell_type": "code",
   "execution_count": 14,
   "metadata": {},
   "outputs": [],
   "source": [
    "# Asks players how many rounds has the game. Needs to be an odd number\n",
    "def number_round():\n",
    "    while True:\n",
    "        rounds = input('How many rounds do you want to play? (needs to be an odd number and an integer)')\n",
    "        if type(rounds) == int and rounds % 2 != 0:\n",
    "            return rounds\n",
    "        else:\n",
    "            print('Error. Needs to be an odd number and integer')\n"
   ]
  },
  {
   "cell_type": "code",
   "execution_count": 15,
   "metadata": {},
   "outputs": [
    {
     "name": "stdout",
     "output_type": "stream",
     "text": [
      "Choose between rock, paper, scissors, lizard or spock:rock\n",
      "Computer has won this round. Player used a rock and computer used a paper.\n",
      "Player has 0 wins and computer 1 wins so far. From 9 rounds, you have played 1.\n",
      "Choose between rock, paper, scissors, lizard or spock:rock\n",
      "Player has won this round. Player used a rock and computer used a scissors.\n",
      "Player has 1 wins and computer 1 wins so far. From 9 rounds, you have played 2.\n",
      "Choose between rock, paper, scissors, lizard or spock:rock\n",
      "Player has won this round. Player used a rock and computer used a lizard.\n",
      "Player has 2 wins and computer 1 wins so far. From 9 rounds, you have played 3.\n",
      "Choose between rock, paper, scissors, lizard or spock:rock\n",
      "Computer has won this round. Player used a rock and computer used a spock.\n",
      "Player has 2 wins and computer 2 wins so far. From 9 rounds, you have played 4.\n",
      "Choose between rock, paper, scissors, lizard or spock:rock\n",
      "The round ended has a tie. Player used a rock and computer used a rock.\n",
      "Player has 2 wins and computer 2 wins so far. From 9 rounds, you have played 5.\n",
      "Choose between rock, paper, scissors, lizard or spock:rock\n",
      "Player has won this round. Player used a rock and computer used a scissors.\n",
      "Player has 3 wins and computer 2 wins so far. From 9 rounds, you have played 6.\n",
      "Choose between rock, paper, scissors, lizard or spock:rock\n",
      "Player has won this round. Player used a rock and computer used a scissors.\n",
      "Player has 4 wins and computer 2 wins so far. From 9 rounds, you have played 7.\n",
      "Choose between rock, paper, scissors, lizard or spock:rock\n",
      "The round ended has a tie. Player used a rock and computer used a rock.\n",
      "Player has 4 wins and computer 2 wins so far. From 9 rounds, you have played 8.\n",
      "Choose between rock, paper, scissors, lizard or spock:rock\n",
      "The round ended has a tie. Player used a rock and computer used a rock.\n",
      "Player has 4 wins and computer 2 wins so far. From 9 rounds, you have played 9.\n"
     ]
    }
   ],
   "source": [
    "# Run the game\n",
    "\n",
    "player_score = 0\n",
    "played_round = 0\n",
    "cpu_score = 0\n",
    "while (player_score < rounds_to_win) and (cpu_score < rounds_to_win) and (played_round < n_rounds):\n",
    "    played_round += 1\n",
    "    round_winner(new_game_round())\n",
    "    print('Player has {} wins and computer {} wins so far. From {} rounds, you have played {}.'.format(player_score,cpu_score,n_rounds,played_round))\n",
    "    "
   ]
  },
  {
   "cell_type": "code",
   "execution_count": 16,
   "metadata": {},
   "outputs": [
    {
     "name": "stdout",
     "output_type": "stream",
     "text": [
      "Congratulations! Player has won the game!\n"
     ]
    }
   ],
   "source": [
    "# Print the winner of the game based on who won more rounds.\n",
    "\n",
    "if player_score == cpu_score:\n",
    "    print('The game ended as a tie')\n",
    "elif player_score > cpu_score:\n",
    "    print('Congratulations! Player has won the game!')\n",
    "elif player_score < cpu_score:\n",
    "    print('AI is too powerfull nowdays. Computer has won the game!')\n",
    "else:\n",
    "    print('Something went wrong. Please contact the admin')"
   ]
  },
  {
   "cell_type": "code",
   "execution_count": null,
   "metadata": {},
   "outputs": [],
   "source": []
  }
 ],
 "metadata": {
  "kernelspec": {
   "display_name": "Python 3",
   "language": "python",
   "name": "python3"
  },
  "language_info": {
   "codemirror_mode": {
    "name": "ipython",
    "version": 3
   },
   "file_extension": ".py",
   "mimetype": "text/x-python",
   "name": "python",
   "nbconvert_exporter": "python",
   "pygments_lexer": "ipython3",
   "version": "3.7.6"
  }
 },
 "nbformat": 4,
 "nbformat_minor": 2
}
